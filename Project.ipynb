{
 "cells": [
  {
   "cell_type": "markdown",
   "metadata": {},
   "source": [
    "<p style=\"font-family: Arial; font-size:3em;color:black;\"> Project</p>"
   ]
  },
  {
   "cell_type": "markdown",
   "metadata": {},
   "source": [
    "We will use the titanic dataset from Kaggle (https://www.kaggle.com/). This is a well-known dataset and we will use it for classification- if the passenger survived or passed away."
   ]
  },
  {
   "cell_type": "code",
   "execution_count": 36,
   "metadata": {},
   "outputs": [],
   "source": [
    "import pandas as pd\n",
    "import numpy as np\n",
    "import matplotlib.pyplot as plt\n",
    "%matplotlib inline"
   ]
  },
  {
   "cell_type": "code",
   "execution_count": 37,
   "metadata": {},
   "outputs": [
    {
     "data": {
      "text/html": [
       "<div>\n",
       "<style scoped>\n",
       "    .dataframe tbody tr th:only-of-type {\n",
       "        vertical-align: middle;\n",
       "    }\n",
       "\n",
       "    .dataframe tbody tr th {\n",
       "        vertical-align: top;\n",
       "    }\n",
       "\n",
       "    .dataframe thead th {\n",
       "        text-align: right;\n",
       "    }\n",
       "</style>\n",
       "<table border=\"1\" class=\"dataframe\">\n",
       "  <thead>\n",
       "    <tr style=\"text-align: right;\">\n",
       "      <th></th>\n",
       "      <th>PassengerId</th>\n",
       "      <th>Survived</th>\n",
       "      <th>Pclass</th>\n",
       "      <th>Name</th>\n",
       "      <th>Sex</th>\n",
       "      <th>Age</th>\n",
       "      <th>SibSp</th>\n",
       "      <th>Parch</th>\n",
       "      <th>Ticket</th>\n",
       "      <th>Fare</th>\n",
       "      <th>Cabin</th>\n",
       "      <th>Embarked</th>\n",
       "    </tr>\n",
       "  </thead>\n",
       "  <tbody>\n",
       "    <tr>\n",
       "      <th>0</th>\n",
       "      <td>1</td>\n",
       "      <td>0</td>\n",
       "      <td>3</td>\n",
       "      <td>Braund, Mr. Owen Harris</td>\n",
       "      <td>male</td>\n",
       "      <td>22.0</td>\n",
       "      <td>1</td>\n",
       "      <td>0</td>\n",
       "      <td>A/5 21171</td>\n",
       "      <td>7.2500</td>\n",
       "      <td>NaN</td>\n",
       "      <td>S</td>\n",
       "    </tr>\n",
       "    <tr>\n",
       "      <th>1</th>\n",
       "      <td>2</td>\n",
       "      <td>1</td>\n",
       "      <td>1</td>\n",
       "      <td>Cumings, Mrs. John Bradley (Florence Briggs Th...</td>\n",
       "      <td>female</td>\n",
       "      <td>38.0</td>\n",
       "      <td>1</td>\n",
       "      <td>0</td>\n",
       "      <td>PC 17599</td>\n",
       "      <td>71.2833</td>\n",
       "      <td>C85</td>\n",
       "      <td>C</td>\n",
       "    </tr>\n",
       "    <tr>\n",
       "      <th>2</th>\n",
       "      <td>3</td>\n",
       "      <td>1</td>\n",
       "      <td>3</td>\n",
       "      <td>Heikkinen, Miss. Laina</td>\n",
       "      <td>female</td>\n",
       "      <td>26.0</td>\n",
       "      <td>0</td>\n",
       "      <td>0</td>\n",
       "      <td>STON/O2. 3101282</td>\n",
       "      <td>7.9250</td>\n",
       "      <td>NaN</td>\n",
       "      <td>S</td>\n",
       "    </tr>\n",
       "    <tr>\n",
       "      <th>3</th>\n",
       "      <td>4</td>\n",
       "      <td>1</td>\n",
       "      <td>1</td>\n",
       "      <td>Futrelle, Mrs. Jacques Heath (Lily May Peel)</td>\n",
       "      <td>female</td>\n",
       "      <td>35.0</td>\n",
       "      <td>1</td>\n",
       "      <td>0</td>\n",
       "      <td>113803</td>\n",
       "      <td>53.1000</td>\n",
       "      <td>C123</td>\n",
       "      <td>S</td>\n",
       "    </tr>\n",
       "    <tr>\n",
       "      <th>4</th>\n",
       "      <td>5</td>\n",
       "      <td>0</td>\n",
       "      <td>3</td>\n",
       "      <td>Allen, Mr. William Henry</td>\n",
       "      <td>male</td>\n",
       "      <td>35.0</td>\n",
       "      <td>0</td>\n",
       "      <td>0</td>\n",
       "      <td>373450</td>\n",
       "      <td>8.0500</td>\n",
       "      <td>NaN</td>\n",
       "      <td>S</td>\n",
       "    </tr>\n",
       "  </tbody>\n",
       "</table>\n",
       "</div>"
      ],
      "text/plain": [
       "   PassengerId  Survived  Pclass  \\\n",
       "0            1         0       3   \n",
       "1            2         1       1   \n",
       "2            3         1       3   \n",
       "3            4         1       1   \n",
       "4            5         0       3   \n",
       "\n",
       "                                                Name     Sex   Age  SibSp  \\\n",
       "0                            Braund, Mr. Owen Harris    male  22.0      1   \n",
       "1  Cumings, Mrs. John Bradley (Florence Briggs Th...  female  38.0      1   \n",
       "2                             Heikkinen, Miss. Laina  female  26.0      0   \n",
       "3       Futrelle, Mrs. Jacques Heath (Lily May Peel)  female  35.0      1   \n",
       "4                           Allen, Mr. William Henry    male  35.0      0   \n",
       "\n",
       "   Parch            Ticket     Fare Cabin Embarked  \n",
       "0      0         A/5 21171   7.2500   NaN        S  \n",
       "1      0          PC 17599  71.2833   C85        C  \n",
       "2      0  STON/O2. 3101282   7.9250   NaN        S  \n",
       "3      0            113803  53.1000  C123        S  \n",
       "4      0            373450   8.0500   NaN        S  "
      ]
     },
     "execution_count": 37,
     "metadata": {},
     "output_type": "execute_result"
    }
   ],
   "source": [
    "training_DF = pd.read_csv('titanic_dataset_GBC.csv')\n",
    "training_DF.head()"
   ]
  },
  {
   "cell_type": "code",
   "execution_count": 38,
   "metadata": {},
   "outputs": [],
   "source": [
    "training_DF['Age'].fillna(training_DF['Age'].mean(), inplace=True)"
   ]
  },
  {
   "cell_type": "code",
   "execution_count": 39,
   "metadata": {},
   "outputs": [],
   "source": [
    "training_DF.drop('Cabin',axis=1,inplace=True)"
   ]
  },
  {
   "cell_type": "code",
   "execution_count": 40,
   "metadata": {},
   "outputs": [],
   "source": [
    "training_DF.dropna(inplace=True)"
   ]
  },
  {
   "cell_type": "code",
   "execution_count": 41,
   "metadata": {},
   "outputs": [],
   "source": [
    "sex = pd.get_dummies(training_DF['Sex'])\n",
    "embark = pd.get_dummies(training_DF['Embarked'])"
   ]
  },
  {
   "cell_type": "code",
   "execution_count": 42,
   "metadata": {},
   "outputs": [],
   "source": [
    "training_DF.drop(['Sex','Embarked','Name','Ticket'],axis=1,inplace=True)"
   ]
  },
  {
   "cell_type": "code",
   "execution_count": 43,
   "metadata": {},
   "outputs": [],
   "source": [
    "training_DF = pd.concat([training_DF,sex,embark],axis=1)"
   ]
  },
  {
   "cell_type": "code",
   "execution_count": 44,
   "metadata": {},
   "outputs": [],
   "source": [
    "training_DF.drop(['female','C'],axis=1,inplace=True)"
   ]
  },
  {
   "cell_type": "code",
   "execution_count": 45,
   "metadata": {},
   "outputs": [],
   "source": [
    "from sklearn.model_selection import train_test_split"
   ]
  },
  {
   "cell_type": "code",
   "execution_count": 46,
   "metadata": {},
   "outputs": [],
   "source": [
    "X_train, X_test, y_train, y_test = train_test_split(training_DF.drop(['Survived', 'Age','SibSp','Parch','male','Pclass',],axis=1), \n",
    "                                                    training_DF['Survived'], test_size=0.30, \n",
    "                                                    random_state=101)"
   ]
  },
  {
   "cell_type": "code",
   "execution_count": 47,
   "metadata": {},
   "outputs": [],
   "source": [
    "# With the above steps, we have cleaned and pre-processed our data to bed fed to a ML/AI classification model.\n",
    "\n",
    "# 1. Use Logistic Regression, Decision Tree, Random Forest, SGD, and SVM for classification of the dataset.\n",
    "# 2. Use GridSearchCV to tune the parameter of each of the above model, can you obtain better results in this step for any of the models? Disucss you observations.\n",
    "# 3. Randomly (or based on some hypothesis) remove some columns (1,2 or maybe 3 of them) of the dataset features and re-run your classification models. Do you observe any change in classification metrics?\n",
    "# 4. Submit your project by the midnight of the 8th session. A suggested method is to submit a (text) report to discuss and summarize your findings and an .ipynb with clear comments and code sections to \n",
    "#    present your work."
   ]
  },
  {
   "cell_type": "markdown",
   "metadata": {},
   "source": [
    "# Importing necessary models and libraries"
   ]
  },
  {
   "cell_type": "code",
   "execution_count": 151,
   "metadata": {},
   "outputs": [],
   "source": [
    "from sklearn.linear_model import LogisticRegression,SGDClassifier\n",
    "from sklearn.tree import DecisionTreeClassifier\n",
    "from sklearn.ensemble import RandomForestClassifier\n",
    "from sklearn.svm import SVC\n",
    "from sklearn.model_selection import GridSearchCV\n",
    "from sklearn.metrics import accuracy_score"
   ]
  },
  {
   "cell_type": "markdown",
   "metadata": {},
   "source": [
    "# Running all models with no parameters"
   ]
  },
  {
   "cell_type": "code",
   "execution_count": 156,
   "metadata": {},
   "outputs": [
    {
     "data": {
      "text/plain": [
       "[0.6779026217228464,\n",
       " 0.5692883895131086,\n",
       " 0.6404494382022472,\n",
       " 0.6067415730337079,\n",
       " 0.6367041198501873]"
      ]
     },
     "execution_count": 156,
     "metadata": {},
     "output_type": "execute_result"
    }
   ],
   "source": [
    "models=[LogisticRegression(),DecisionTreeClassifier(),RandomForestClassifier(),SGDClassifier(),SVC()]\n",
    "accuracy_scores=[]\n",
    "for i in models:\n",
    "    i.fit(X_train,y_train)\n",
    "    accuracy_scores.append(accuracy_score(y_test,i.predict(X_test)))\n",
    "accuracy_scores"
   ]
  },
  {
   "cell_type": "markdown",
   "metadata": {},
   "source": [
    "# Running GridSearchCv for Logistic Regression"
   ]
  },
  {
   "cell_type": "code",
   "execution_count": 287,
   "metadata": {},
   "outputs": [],
   "source": [
    "def LR_Gridsearch(X_train,y_train):\n",
    "    param_grid_lr={'C':np.linspace(0,100,100),'penalty': ['elasticnet','none'],'class_weight':['dict', 'balanced', 'None'],'solver': ['newton-cg', 'lbfgs', 'liblinear', 'sag', 'saga'],'l1_ratio':[0,0.1,0.2,0.3,0.4,0.5,0.6,0.7,0.8,0.9,1]}\n",
    "    gridlr=GridSearchCV(LogisticRegression(),param_grid_lr,refit=True,verbose=3,scoring='accuracy',n_jobs=-1)\n",
    "    gridlr.fit(X_train,y_train)\n",
    "    return gridlr.best_params_,gridlr.best_score_,gridlr.best_estimator_"
   ]
  },
  {
   "cell_type": "code",
   "execution_count": 288,
   "metadata": {},
   "outputs": [
    {
     "name": "stdout",
     "output_type": "stream",
     "text": [
      "Fitting 5 folds for each of 33000 candidates, totalling 165000 fits\n"
     ]
    },
    {
     "name": "stderr",
     "output_type": "stream",
     "text": [
      "[Parallel(n_jobs=-1)]: Using backend LokyBackend with 8 concurrent workers.\n",
      "[Parallel(n_jobs=-1)]: Done  16 tasks      | elapsed:    0.0s\n",
      "[Parallel(n_jobs=-1)]: Done 1008 tasks      | elapsed:    1.6s\n",
      "[Parallel(n_jobs=-1)]: Done 3568 tasks      | elapsed:    5.7s\n",
      "[Parallel(n_jobs=-1)]: Done 7152 tasks      | elapsed:   11.4s\n",
      "[Parallel(n_jobs=-1)]: Done 11760 tasks      | elapsed:   18.9s\n",
      "[Parallel(n_jobs=-1)]: Done 17392 tasks      | elapsed:   28.2s\n",
      "[Parallel(n_jobs=-1)]: Done 24048 tasks      | elapsed:   39.3s\n",
      "[Parallel(n_jobs=-1)]: Done 31728 tasks      | elapsed:   51.8s\n",
      "[Parallel(n_jobs=-1)]: Done 40432 tasks      | elapsed:  1.1min\n",
      "[Parallel(n_jobs=-1)]: Done 50160 tasks      | elapsed:  1.4min\n",
      "[Parallel(n_jobs=-1)]: Done 60912 tasks      | elapsed:  1.7min\n",
      "[Parallel(n_jobs=-1)]: Done 72688 tasks      | elapsed:  2.0min\n",
      "[Parallel(n_jobs=-1)]: Done 85488 tasks      | elapsed:  2.4min\n",
      "[Parallel(n_jobs=-1)]: Done 99312 tasks      | elapsed:  2.8min\n",
      "[Parallel(n_jobs=-1)]: Done 114160 tasks      | elapsed:  3.2min\n",
      "[Parallel(n_jobs=-1)]: Done 130032 tasks      | elapsed:  3.6min\n",
      "[Parallel(n_jobs=-1)]: Done 146928 tasks      | elapsed:  4.0min\n",
      "[Parallel(n_jobs=-1)]: Done 164848 tasks      | elapsed:  4.5min\n",
      "[Parallel(n_jobs=-1)]: Done 165000 out of 165000 | elapsed:  4.5min finished\n",
      "C:\\Users\\Alber\\anaconda3\\lib\\site-packages\\sklearn\\linear_model\\_logistic.py:1315: UserWarning: l1_ratio parameter is only used when penalty is 'elasticnet'. Got (penalty=none)\n",
      "  warnings.warn(\"l1_ratio parameter is only used when penalty is \"\n",
      "C:\\Users\\Alber\\anaconda3\\lib\\site-packages\\sklearn\\linear_model\\_logistic.py:1320: UserWarning: Setting penalty='none' will ignore the C and l1_ratio parameters\n",
      "  warnings.warn(\n"
     ]
    }
   ],
   "source": [
    "lrparams,lrscore,lrmodel=LR_Gridsearch(X_train,y_train)"
   ]
  },
  {
   "cell_type": "code",
   "execution_count": 289,
   "metadata": {},
   "outputs": [
    {
     "data": {
      "text/plain": [
       "({'C': 0.0,\n",
       "  'class_weight': 'dict',\n",
       "  'l1_ratio': 0,\n",
       "  'penalty': 'none',\n",
       "  'solver': 'lbfgs'},\n",
       " 0.6864516129032256)"
      ]
     },
     "execution_count": 289,
     "metadata": {},
     "output_type": "execute_result"
    }
   ],
   "source": [
    "lrparams,lrscore"
   ]
  },
  {
   "cell_type": "code",
   "execution_count": 290,
   "metadata": {},
   "outputs": [
    {
     "data": {
      "text/plain": [
       "0.6779026217228464"
      ]
     },
     "execution_count": 290,
     "metadata": {},
     "output_type": "execute_result"
    }
   ],
   "source": [
    "lrpred=lrmodel.predict(X_test)\n",
    "lr_accuracy=accuracy_score(y_test,lrpred)\n",
    "lr_accuracy"
   ]
  },
  {
   "cell_type": "code",
   "execution_count": 291,
   "metadata": {},
   "outputs": [
    {
     "data": {
      "text/plain": [
       "0.6864951768488746"
      ]
     },
     "execution_count": 291,
     "metadata": {},
     "output_type": "execute_result"
    }
   ],
   "source": [
    "#testing for overfitting\n",
    "accuracy_score(y_train,lrmodel.predict(X_train))"
   ]
  },
  {
   "cell_type": "markdown",
   "metadata": {},
   "source": [
    "Gridsearch always chooses minimum C for logistic regression"
   ]
  },
  {
   "cell_type": "markdown",
   "metadata": {},
   "source": [
    "# Running GridSearchCv for Decision Tree"
   ]
  },
  {
   "cell_type": "code",
   "execution_count": 316,
   "metadata": {},
   "outputs": [],
   "source": [
    "def DT_Gridsearch(X_train,y_train):\n",
    "    param_grid_DT={'criterion':['gini', 'entropy'],'splitter':['best','random'],'max_depth':[1,2,3,4,5,6,7,8,9,10,'None'],'class_weight': ['dict', 'balanced', 'None'],'max_features' : [1,2,3,4,5]}\n",
    "    gridDT=GridSearchCV(DecisionTreeClassifier(),param_grid_DT,refit=True,verbose=3,scoring='accuracy',n_jobs=-1)\n",
    "    gridDT.fit(X_train,y_train)\n",
    "    return gridDT.best_params_,gridDT.best_score_,gridDT.best_estimator_"
   ]
  },
  {
   "cell_type": "code",
   "execution_count": 317,
   "metadata": {},
   "outputs": [
    {
     "name": "stdout",
     "output_type": "stream",
     "text": [
      "Fitting 5 folds for each of 660 candidates, totalling 3300 fits\n"
     ]
    },
    {
     "name": "stderr",
     "output_type": "stream",
     "text": [
      "[Parallel(n_jobs=-1)]: Using backend LokyBackend with 8 concurrent workers.\n",
      "[Parallel(n_jobs=-1)]: Done  16 tasks      | elapsed:    2.4s\n",
      "[Parallel(n_jobs=-1)]: Done 528 tasks      | elapsed:    2.9s\n",
      "[Parallel(n_jobs=-1)]: Done 3300 out of 3300 | elapsed:    4.8s finished\n"
     ]
    }
   ],
   "source": [
    "bestparamsDT,bestscoresDT,DTmodel=DT_Gridsearch(X_train,y_train)"
   ]
  },
  {
   "cell_type": "code",
   "execution_count": 241,
   "metadata": {},
   "outputs": [
    {
     "data": {
      "text/plain": [
       "({'class_weight': 'balanced',\n",
       "  'criterion': 'gini',\n",
       "  'max_depth': 9,\n",
       "  'max_features': 1,\n",
       "  'splitter': 'random'},\n",
       " 0.6719612903225807,\n",
       " DecisionTreeClassifier(class_weight='balanced', max_depth=9, max_features=1,\n",
       "                        splitter='random'))"
      ]
     },
     "execution_count": 241,
     "metadata": {},
     "output_type": "execute_result"
    }
   ],
   "source": [
    "bestparamsDT,bestscoresDT,DTmodel"
   ]
  },
  {
   "cell_type": "code",
   "execution_count": 242,
   "metadata": {},
   "outputs": [
    {
     "data": {
      "text/plain": [
       "0.6254681647940075"
      ]
     },
     "execution_count": 242,
     "metadata": {},
     "output_type": "execute_result"
    }
   ],
   "source": [
    "DTpred=DTmodel.predict(X_test)\n",
    "DT_accuracy=accuracy_score(y_test,DTpred)\n",
    "DT_accuracy"
   ]
  },
  {
   "cell_type": "code",
   "execution_count": 243,
   "metadata": {},
   "outputs": [
    {
     "data": {
      "text/plain": [
       "0.6929260450160771"
      ]
     },
     "execution_count": 243,
     "metadata": {},
     "output_type": "execute_result"
    }
   ],
   "source": [
    "#testing for overfitting\n",
    "accuracy_score(y_train,DTmodel.predict(X_train))"
   ]
  },
  {
   "cell_type": "markdown",
   "metadata": {},
   "source": [
    "# Running GridSearchCv for Random Forest"
   ]
  },
  {
   "cell_type": "code",
   "execution_count": 318,
   "metadata": {},
   "outputs": [],
   "source": [
    "def RF_Gridsearch(X_train,y_train):\n",
    "    param_grid_RF={'n_estimators':[10,50,100,150,200],'criterion':['gini', 'entropy'],'max_depth':[1,2,3,4,5,6,7,8,9,10,'None'],'class_weight': ['dict', 'balanced', 'None'],'max_features' : [1,2,3,4],'min_samples_split':[1,2,3,4,5],'min_samples_leaf':[1,2,3,4,5]}\n",
    "    gridRF=GridSearchCV(RandomForestClassifier(),param_grid_RF,refit=True,verbose=3,scoring='accuracy',n_jobs=-1)\n",
    "    gridRF.fit(X_train,y_train)\n",
    "    return gridRF.best_params_,gridRF.best_score_,gridRF.best_estimator_"
   ]
  },
  {
   "cell_type": "code",
   "execution_count": 319,
   "metadata": {},
   "outputs": [
    {
     "name": "stdout",
     "output_type": "stream",
     "text": [
      "Fitting 5 folds for each of 33000 candidates, totalling 165000 fits\n"
     ]
    },
    {
     "name": "stderr",
     "output_type": "stream",
     "text": [
      "[Parallel(n_jobs=-1)]: Using backend LokyBackend with 8 concurrent workers.\n",
      "[Parallel(n_jobs=-1)]: Done  16 tasks      | elapsed:    0.0s\n",
      "[Parallel(n_jobs=-1)]: Done 2032 tasks      | elapsed:    1.6s\n",
      "[Parallel(n_jobs=-1)]: Done 12272 tasks      | elapsed:    8.9s\n",
      "[Parallel(n_jobs=-1)]: Done 26608 tasks      | elapsed:   19.9s\n",
      "[Parallel(n_jobs=-1)]: Done 45040 tasks      | elapsed:   32.9s\n",
      "[Parallel(n_jobs=-1)]: Done 56560 tasks      | elapsed:  1.3min\n",
      "[Parallel(n_jobs=-1)]: Done 56976 tasks      | elapsed:  1.5min\n",
      "[Parallel(n_jobs=-1)]: Done 57456 tasks      | elapsed:  1.8min\n",
      "[Parallel(n_jobs=-1)]: Done 58000 tasks      | elapsed:  2.0min\n",
      "[Parallel(n_jobs=-1)]: Done 58608 tasks      | elapsed:  2.3min\n",
      "[Parallel(n_jobs=-1)]: Done 59280 tasks      | elapsed:  2.6min\n",
      "[Parallel(n_jobs=-1)]: Done 60016 tasks      | elapsed:  3.0min\n",
      "[Parallel(n_jobs=-1)]: Done 60816 tasks      | elapsed:  3.4min\n",
      "[Parallel(n_jobs=-1)]: Done 61680 tasks      | elapsed:  3.8min\n",
      "[Parallel(n_jobs=-1)]: Done 62608 tasks      | elapsed:  4.3min\n",
      "[Parallel(n_jobs=-1)]: Done 63600 tasks      | elapsed:  4.8min\n",
      "[Parallel(n_jobs=-1)]: Done 64656 tasks      | elapsed:  5.2min\n",
      "[Parallel(n_jobs=-1)]: Done 65776 tasks      | elapsed:  5.7min\n",
      "[Parallel(n_jobs=-1)]: Done 66960 tasks      | elapsed:  6.3min\n",
      "[Parallel(n_jobs=-1)]: Done 68208 tasks      | elapsed:  6.8min\n",
      "[Parallel(n_jobs=-1)]: Done 69520 tasks      | elapsed:  7.5min\n",
      "[Parallel(n_jobs=-1)]: Done 70896 tasks      | elapsed:  8.1min\n",
      "[Parallel(n_jobs=-1)]: Done 72336 tasks      | elapsed:  8.9min\n",
      "[Parallel(n_jobs=-1)]: Done 73840 tasks      | elapsed:  9.7min\n",
      "[Parallel(n_jobs=-1)]: Done 75408 tasks      | elapsed: 10.4min\n",
      "[Parallel(n_jobs=-1)]: Done 77040 tasks      | elapsed: 11.3min\n",
      "[Parallel(n_jobs=-1)]: Done 78736 tasks      | elapsed: 12.2min\n",
      "[Parallel(n_jobs=-1)]: Done 81688 tasks      | elapsed: 13.3min\n",
      "[Parallel(n_jobs=-1)]: Done 84376 tasks      | elapsed: 14.3min\n",
      "[Parallel(n_jobs=-1)]: Done 86264 tasks      | elapsed: 15.3min\n",
      "[Parallel(n_jobs=-1)]: Done 88216 tasks      | elapsed: 16.3min\n",
      "[Parallel(n_jobs=-1)]: Done 90232 tasks      | elapsed: 17.3min\n",
      "[Parallel(n_jobs=-1)]: Done 92312 tasks      | elapsed: 18.4min\n",
      "[Parallel(n_jobs=-1)]: Done 94456 tasks      | elapsed: 19.6min\n",
      "[Parallel(n_jobs=-1)]: Done 96664 tasks      | elapsed: 20.8min\n",
      "[Parallel(n_jobs=-1)]: Done 98936 tasks      | elapsed: 22.1min\n",
      "[Parallel(n_jobs=-1)]: Done 101272 tasks      | elapsed: 23.4min\n",
      "[Parallel(n_jobs=-1)]: Done 103672 tasks      | elapsed: 24.8min\n",
      "[Parallel(n_jobs=-1)]: Done 106136 tasks      | elapsed: 26.2min\n",
      "[Parallel(n_jobs=-1)]: Done 109768 tasks      | elapsed: 27.5min\n",
      "[Parallel(n_jobs=-1)]: Done 164985 out of 165000 | elapsed: 28.3min remaining:    0.1s\n",
      "[Parallel(n_jobs=-1)]: Done 165000 out of 165000 | elapsed: 28.3min finished\n"
     ]
    },
    {
     "data": {
      "text/plain": [
       "({'class_weight': 'balanced',\n",
       "  'criterion': 'entropy',\n",
       "  'max_depth': 10,\n",
       "  'max_features': 4,\n",
       "  'min_samples_leaf': 4,\n",
       "  'min_samples_split': 2,\n",
       "  'n_estimators': 10},\n",
       " 0.6929161290322581)"
      ]
     },
     "execution_count": 319,
     "metadata": {},
     "output_type": "execute_result"
    }
   ],
   "source": [
    "bestparamsRF,bestscoresRF,RFmodel=RF_Gridsearch(X_train,y_train)\n",
    "bestparamsRF,bestscoresRF"
   ]
  },
  {
   "cell_type": "code",
   "execution_count": 320,
   "metadata": {},
   "outputs": [
    {
     "data": {
      "text/plain": [
       "0.6479400749063671"
      ]
     },
     "execution_count": 320,
     "metadata": {},
     "output_type": "execute_result"
    }
   ],
   "source": [
    "RFpred=RFmodel.predict(X_test)\n",
    "RF_accuracy=accuracy_score(y_test,RFpred)\n",
    "RF_accuracy"
   ]
  },
  {
   "cell_type": "code",
   "execution_count": 321,
   "metadata": {},
   "outputs": [
    {
     "data": {
      "text/plain": [
       "0.8344051446945338"
      ]
     },
     "execution_count": 321,
     "metadata": {},
     "output_type": "execute_result"
    }
   ],
   "source": [
    "#testing for overfitting\n",
    "accuracy_score(y_train,RFmodel.predict(X_train))"
   ]
  },
  {
   "cell_type": "markdown",
   "metadata": {},
   "source": [
    "# Running GridSearchCv for SGD"
   ]
  },
  {
   "cell_type": "code",
   "execution_count": 296,
   "metadata": {},
   "outputs": [],
   "source": [
    "def SGD_Gridsearch(X_train,y_train):\n",
    "    param_grid_SGD={'loss':['hinge','log','modified_huber','squared_hinge','perceptron','squared_loss','huber','epsilon_insensitive','squared_epsilon_insensitive'],'penalty': ['elasticnet'],'class_weight': ['dict', 'balanced', 'None'],'alpha':[0.0001,0.001,0.01,0.1,1,2,3,4,5],'l1_ratio':[0,0.1,0.2,0.3,0.4,0.5,0.6,0.7,0.8,0.9,1]}\n",
    "    gridSGD=GridSearchCV(SGDClassifier(),param_grid_SGD,refit=True,verbose=3,scoring='accuracy',n_jobs=-1)\n",
    "    gridSGD.fit(X_train,y_train)\n",
    "    return gridSGD.best_params_,gridSGD.best_score_,gridSGD.best_estimator_"
   ]
  },
  {
   "cell_type": "code",
   "execution_count": 297,
   "metadata": {},
   "outputs": [
    {
     "name": "stdout",
     "output_type": "stream",
     "text": [
      "Fitting 5 folds for each of 2673 candidates, totalling 13365 fits\n"
     ]
    },
    {
     "name": "stderr",
     "output_type": "stream",
     "text": [
      "[Parallel(n_jobs=-1)]: Using backend LokyBackend with 8 concurrent workers.\n",
      "[Parallel(n_jobs=-1)]: Done  16 tasks      | elapsed:    0.0s\n",
      "[Parallel(n_jobs=-1)]: Done 1520 tasks      | elapsed:    1.6s\n",
      "[Parallel(n_jobs=-1)]: Done 6640 tasks      | elapsed:    6.6s\n",
      "[Parallel(n_jobs=-1)]: Done 13188 tasks      | elapsed:   13.4s\n",
      "[Parallel(n_jobs=-1)]: Done 13365 out of 13365 | elapsed:   13.5s finished\n"
     ]
    },
    {
     "data": {
      "text/plain": [
       "({'alpha': 2,\n",
       "  'class_weight': 'balanced',\n",
       "  'l1_ratio': 0.8,\n",
       "  'loss': 'modified_huber',\n",
       "  'penalty': 'elasticnet'},\n",
       " 0.6719225806451613)"
      ]
     },
     "execution_count": 297,
     "metadata": {},
     "output_type": "execute_result"
    }
   ],
   "source": [
    "bestparamsSGD,bestscoresSGD,SGDmodel = SGD_Gridsearch(X_train,y_train)\n",
    "bestparamsSGD,bestscoresSGD"
   ]
  },
  {
   "cell_type": "code",
   "execution_count": 298,
   "metadata": {},
   "outputs": [
    {
     "data": {
      "text/plain": [
       "0.6104868913857678"
      ]
     },
     "execution_count": 298,
     "metadata": {},
     "output_type": "execute_result"
    }
   ],
   "source": [
    "SGDpred=SGDmodel.predict(X_test)\n",
    "SGD_accuracy=accuracy_score(y_test,SGDpred)\n",
    "SGD_accuracy"
   ]
  },
  {
   "cell_type": "code",
   "execution_count": 299,
   "metadata": {},
   "outputs": [
    {
     "data": {
      "text/plain": [
       "0.6077170418006431"
      ]
     },
     "execution_count": 299,
     "metadata": {},
     "output_type": "execute_result"
    }
   ],
   "source": [
    "#testing for overfitting\n",
    "accuracy_score(y_train,SGDmodel.predict(X_train))"
   ]
  },
  {
   "cell_type": "markdown",
   "metadata": {},
   "source": [
    "# Running GridSearchCv with Svc for kernels other than poly"
   ]
  },
  {
   "cell_type": "code",
   "execution_count": 257,
   "metadata": {},
   "outputs": [],
   "source": [
    "def SVC_Gridsearch(X_train,y_train):\n",
    "    param_grid_svc={'C':np.linspace(0.5,1,10),'kernel' : ['linear', 'rbf', 'sigmoid'],'gamma':[0.00001,0.0001,0.001,0.01,0.1,0,1]}\n",
    "    grid=GridSearchCV(SVC(),param_grid_svc,refit=True,verbose=3,scoring='accuracy',n_jobs=-1)\n",
    "    grid.fit(X_train,y_train)\n",
    "    return grid.best_params_,grid.best_score_,grid.best_estimator_"
   ]
  },
  {
   "cell_type": "code",
   "execution_count": 258,
   "metadata": {},
   "outputs": [
    {
     "name": "stdout",
     "output_type": "stream",
     "text": [
      "Fitting 5 folds for each of 210 candidates, totalling 1050 fits\n"
     ]
    },
    {
     "name": "stderr",
     "output_type": "stream",
     "text": [
      "[Parallel(n_jobs=-1)]: Using backend LokyBackend with 8 concurrent workers.\n",
      "[Parallel(n_jobs=-1)]: Done  16 tasks      | elapsed:   21.0s\n",
      "[Parallel(n_jobs=-1)]: Done 112 tasks      | elapsed:  1.6min\n",
      "[Parallel(n_jobs=-1)]: Done 272 tasks      | elapsed:  4.1min\n",
      "[Parallel(n_jobs=-1)]: Done 496 tasks      | elapsed:  7.7min\n",
      "[Parallel(n_jobs=-1)]: Done 784 tasks      | elapsed: 12.3min\n",
      "[Parallel(n_jobs=-1)]: Done 1050 out of 1050 | elapsed: 16.4min finished\n"
     ]
    },
    {
     "data": {
      "text/plain": [
       "({'C': 0.7777777777777778, 'gamma': 0.0001, 'kernel': 'rbf'},\n",
       " 0.6799999999999999)"
      ]
     },
     "execution_count": 258,
     "metadata": {},
     "output_type": "execute_result"
    }
   ],
   "source": [
    "bestparamssvc,bestscoresvc,svcmodel=SVC_Gridsearch(X_train,y_train)\n",
    "bestparamssvc,bestscoresvc"
   ]
  },
  {
   "cell_type": "code",
   "execution_count": 259,
   "metadata": {},
   "outputs": [
    {
     "data": {
      "text/plain": [
       "0.6666666666666666"
      ]
     },
     "execution_count": 259,
     "metadata": {},
     "output_type": "execute_result"
    }
   ],
   "source": [
    "svcpred=svcmodel.predict(X_test)\n",
    "svc_accuracy=accuracy_score(y_test,svcpred)\n",
    "svc_accuracy"
   ]
  },
  {
   "cell_type": "code",
   "execution_count": 260,
   "metadata": {},
   "outputs": [
    {
     "data": {
      "text/plain": [
       "0.6945337620578779"
      ]
     },
     "execution_count": 260,
     "metadata": {},
     "output_type": "execute_result"
    }
   ],
   "source": [
    "#testing for overfitting\n",
    "accuracy_score(y_train,svcmodel.predict(X_train))"
   ]
  },
  {
   "cell_type": "markdown",
   "metadata": {},
   "source": [
    "# Comparing accuracies"
   ]
  },
  {
   "cell_type": "code",
   "execution_count": 322,
   "metadata": {},
   "outputs": [
    {
     "data": {
      "text/html": [
       "<div>\n",
       "<style scoped>\n",
       "    .dataframe tbody tr th:only-of-type {\n",
       "        vertical-align: middle;\n",
       "    }\n",
       "\n",
       "    .dataframe tbody tr th {\n",
       "        vertical-align: top;\n",
       "    }\n",
       "\n",
       "    .dataframe thead th {\n",
       "        text-align: right;\n",
       "    }\n",
       "</style>\n",
       "<table border=\"1\" class=\"dataframe\">\n",
       "  <thead>\n",
       "    <tr style=\"text-align: right;\">\n",
       "      <th></th>\n",
       "      <th>no params</th>\n",
       "      <th>GridSearchCV</th>\n",
       "    </tr>\n",
       "  </thead>\n",
       "  <tbody>\n",
       "    <tr>\n",
       "      <th>Logistic Regression</th>\n",
       "      <td>0.677903</td>\n",
       "      <td>0.677903</td>\n",
       "    </tr>\n",
       "    <tr>\n",
       "      <th>Decision Tree</th>\n",
       "      <td>0.569288</td>\n",
       "      <td>0.625468</td>\n",
       "    </tr>\n",
       "    <tr>\n",
       "      <th>Random Forest</th>\n",
       "      <td>0.640449</td>\n",
       "      <td>0.647940</td>\n",
       "    </tr>\n",
       "    <tr>\n",
       "      <th>SGD</th>\n",
       "      <td>0.606742</td>\n",
       "      <td>0.610487</td>\n",
       "    </tr>\n",
       "    <tr>\n",
       "      <th>SVC</th>\n",
       "      <td>0.636704</td>\n",
       "      <td>0.666667</td>\n",
       "    </tr>\n",
       "  </tbody>\n",
       "</table>\n",
       "</div>"
      ],
      "text/plain": [
       "                     no params  GridSearchCV\n",
       "Logistic Regression   0.677903      0.677903\n",
       "Decision Tree         0.569288      0.625468\n",
       "Random Forest         0.640449      0.647940\n",
       "SGD                   0.606742      0.610487\n",
       "SVC                   0.636704      0.666667"
      ]
     },
     "execution_count": 322,
     "metadata": {},
     "output_type": "execute_result"
    }
   ],
   "source": [
    "Accuracys_data=pd.DataFrame({'no params':accuracy_scores,'GridSearchCV':[lr_accuracy,DT_accuracy,RF_accuracy,SGD_accuracy,svc_accuracy]},[\"Logistic Regression\",\"Decision Tree\",\"Random Forest\",\"SGD\",\"SVC\"])\n",
    "Accuracys_data"
   ]
  },
  {
   "cell_type": "markdown",
   "metadata": {},
   "source": [
    "# Dropping columns and re running GridsearchCV"
   ]
  },
  {
   "cell_type": "code",
   "execution_count": 323,
   "metadata": {},
   "outputs": [
    {
     "name": "stdout",
     "output_type": "stream",
     "text": [
      "Fitting 5 folds for each of 33000 candidates, totalling 165000 fits\n"
     ]
    },
    {
     "name": "stderr",
     "output_type": "stream",
     "text": [
      "[Parallel(n_jobs=-1)]: Using backend LokyBackend with 8 concurrent workers.\n",
      "[Parallel(n_jobs=-1)]: Done  16 tasks      | elapsed:    0.0s\n",
      "[Parallel(n_jobs=-1)]: Done 1520 tasks      | elapsed:    2.0s\n",
      "[Parallel(n_jobs=-1)]: Done 6640 tasks      | elapsed:    8.3s\n",
      "[Parallel(n_jobs=-1)]: Done 13808 tasks      | elapsed:   17.3s\n",
      "[Parallel(n_jobs=-1)]: Done 23024 tasks      | elapsed:   30.1s\n",
      "[Parallel(n_jobs=-1)]: Done 34288 tasks      | elapsed:   43.9s\n",
      "[Parallel(n_jobs=-1)]: Done 47600 tasks      | elapsed:  1.0min\n",
      "[Parallel(n_jobs=-1)]: Done 62960 tasks      | elapsed:  1.3min\n",
      "[Parallel(n_jobs=-1)]: Done 80368 tasks      | elapsed:  1.7min\n",
      "[Parallel(n_jobs=-1)]: Done 99824 tasks      | elapsed:  2.2min\n",
      "[Parallel(n_jobs=-1)]: Done 121328 tasks      | elapsed:  2.6min\n",
      "[Parallel(n_jobs=-1)]: Done 144880 tasks      | elapsed:  3.1min\n",
      "[Parallel(n_jobs=-1)]: Done 165000 out of 165000 | elapsed:  3.6min finished\n",
      "C:\\Users\\Alber\\anaconda3\\lib\\site-packages\\sklearn\\linear_model\\_logistic.py:1315: UserWarning: l1_ratio parameter is only used when penalty is 'elasticnet'. Got (penalty=none)\n",
      "  warnings.warn(\"l1_ratio parameter is only used when penalty is \"\n",
      "C:\\Users\\Alber\\anaconda3\\lib\\site-packages\\sklearn\\linear_model\\_logistic.py:1320: UserWarning: Setting penalty='none' will ignore the C and l1_ratio parameters\n",
      "  warnings.warn(\n",
      "[Parallel(n_jobs=-1)]: Using backend LokyBackend with 8 concurrent workers.\n",
      "[Parallel(n_jobs=-1)]: Done  16 tasks      | elapsed:    0.0s\n"
     ]
    },
    {
     "name": "stdout",
     "output_type": "stream",
     "text": [
      "Fitting 5 folds for each of 660 candidates, totalling 3300 fits\n"
     ]
    },
    {
     "name": "stderr",
     "output_type": "stream",
     "text": [
      "[Parallel(n_jobs=-1)]: Done 2032 tasks      | elapsed:    1.8s\n",
      "[Parallel(n_jobs=-1)]: Done 3300 out of 3300 | elapsed:    2.5s finished\n",
      "[Parallel(n_jobs=-1)]: Using backend LokyBackend with 8 concurrent workers.\n",
      "[Parallel(n_jobs=-1)]: Done  16 tasks      | elapsed:    0.0s\n"
     ]
    },
    {
     "name": "stdout",
     "output_type": "stream",
     "text": [
      "Fitting 5 folds for each of 33000 candidates, totalling 165000 fits\n"
     ]
    },
    {
     "name": "stderr",
     "output_type": "stream",
     "text": [
      "[Parallel(n_jobs=-1)]: Done 2032 tasks      | elapsed:    1.5s\n",
      "[Parallel(n_jobs=-1)]: Done 12272 tasks      | elapsed:    8.5s\n",
      "[Parallel(n_jobs=-1)]: Done 26608 tasks      | elapsed:   18.7s\n",
      "[Parallel(n_jobs=-1)]: Done 45040 tasks      | elapsed:   31.0s\n",
      "[Parallel(n_jobs=-1)]: Done 56430 tasks      | elapsed:  1.3min\n",
      "[Parallel(n_jobs=-1)]: Done 57448 tasks      | elapsed:  1.4min\n",
      "[Parallel(n_jobs=-1)]: Done 58408 tasks      | elapsed:  1.9min\n",
      "[Parallel(n_jobs=-1)]: Done 59496 tasks      | elapsed:  2.2min\n",
      "[Parallel(n_jobs=-1)]: Done 60712 tasks      | elapsed:  2.6min\n",
      "[Parallel(n_jobs=-1)]: Done 62056 tasks      | elapsed:  3.0min\n",
      "[Parallel(n_jobs=-1)]: Done 63528 tasks      | elapsed:  3.6min\n",
      "[Parallel(n_jobs=-1)]: Done 65128 tasks      | elapsed:  4.1min\n",
      "[Parallel(n_jobs=-1)]: Done 66856 tasks      | elapsed:  4.7min\n",
      "[Parallel(n_jobs=-1)]: Done 68712 tasks      | elapsed:  5.5min\n",
      "[Parallel(n_jobs=-1)]: Done 70696 tasks      | elapsed:  6.1min\n",
      "[Parallel(n_jobs=-1)]: Done 72808 tasks      | elapsed:  6.8min\n",
      "[Parallel(n_jobs=-1)]: Done 75048 tasks      | elapsed:  7.5min\n",
      "[Parallel(n_jobs=-1)]: Done 77416 tasks      | elapsed:  8.4min\n",
      "[Parallel(n_jobs=-1)]: Done 79912 tasks      | elapsed:  9.3min\n",
      "[Parallel(n_jobs=-1)]: Done 82536 tasks      | elapsed:  9.9min\n",
      "[Parallel(n_jobs=-1)]: Done 85288 tasks      | elapsed: 10.9min\n",
      "[Parallel(n_jobs=-1)]: Done 88168 tasks      | elapsed: 12.0min\n",
      "[Parallel(n_jobs=-1)]: Done 91176 tasks      | elapsed: 13.1min\n",
      "[Parallel(n_jobs=-1)]: Done 94312 tasks      | elapsed: 14.2min\n",
      "[Parallel(n_jobs=-1)]: Done 97576 tasks      | elapsed: 15.3min\n",
      "[Parallel(n_jobs=-1)]: Done 100968 tasks      | elapsed: 16.7min\n",
      "[Parallel(n_jobs=-1)]: Done 104488 tasks      | elapsed: 17.9min\n",
      "[Parallel(n_jobs=-1)]: Done 108136 tasks      | elapsed: 19.1min\n",
      "[Parallel(n_jobs=-1)]: Done 164734 tasks      | elapsed: 20.1min\n",
      "[Parallel(n_jobs=-1)]: Done 164985 out of 165000 | elapsed: 20.1min remaining:    0.0s\n",
      "[Parallel(n_jobs=-1)]: Done 165000 out of 165000 | elapsed: 20.1min finished\n"
     ]
    },
    {
     "name": "stdout",
     "output_type": "stream",
     "text": [
      "Fitting 5 folds for each of 2673 candidates, totalling 13365 fits\n"
     ]
    },
    {
     "name": "stderr",
     "output_type": "stream",
     "text": [
      "[Parallel(n_jobs=-1)]: Using backend LokyBackend with 8 concurrent workers.\n",
      "[Parallel(n_jobs=-1)]: Done  16 tasks      | elapsed:    0.0s\n",
      "[Parallel(n_jobs=-1)]: Done 1520 tasks      | elapsed:    1.6s\n",
      "[Parallel(n_jobs=-1)]: Done 6640 tasks      | elapsed:    6.8s\n",
      "[Parallel(n_jobs=-1)]: Done 13219 tasks      | elapsed:   13.7s\n",
      "[Parallel(n_jobs=-1)]: Done 13365 out of 13365 | elapsed:   13.8s finished\n"
     ]
    },
    {
     "name": "stdout",
     "output_type": "stream",
     "text": [
      "Fitting 5 folds for each of 210 candidates, totalling 1050 fits\n"
     ]
    },
    {
     "name": "stderr",
     "output_type": "stream",
     "text": [
      "[Parallel(n_jobs=-1)]: Using backend LokyBackend with 8 concurrent workers.\n",
      "[Parallel(n_jobs=-1)]: Done  19 tasks      | elapsed:    0.0s\n",
      "[Parallel(n_jobs=-1)]: Done 368 tasks      | elapsed:    2.5s\n",
      "[Parallel(n_jobs=-1)]: Done 1008 tasks      | elapsed:    8.5s\n",
      "[Parallel(n_jobs=-1)]: Done 1050 out of 1050 | elapsed:    9.0s finished\n"
     ]
    }
   ],
   "source": [
    "#The features Q  and PassengerId were dropped because they were found to have little correlation with survival\n",
    "X_train2=X_train.drop(['Q','PassengerId'],axis=1)\n",
    "X_test2=X_test.drop(['Q','PassengerId'],axis=1)\n",
    "paramsdropped=[]\n",
    "scoresdropped=[]\n",
    "modelsdropped=[]\n",
    "accuracydropped=[]\n",
    "for i in [0,1,2,3,4]:\n",
    "    if i ==0:\n",
    "        a,b,c=LR_Gridsearch(X_train2,y_train)\n",
    "    if i ==1:\n",
    "        a,b,c=DT_Gridsearch(X_train2,y_train)\n",
    "    if i ==2:\n",
    "        a,b,c=RF_Gridsearch(X_train2,y_train)\n",
    "    if i ==3:\n",
    "        a,b,c=SGD_Gridsearch(X_train2,y_train)\n",
    "    if i ==4:\n",
    "        a,b,c=SVC_Gridsearch(X_train2,y_train)\n",
    "    paramsdropped.append(a)\n",
    "    scoresdropped.append(b)\n",
    "    modelsdropped.append(c)\n",
    "    accuracydropped.append(accuracy_score(y_test,c.predict(X_test2)))"
   ]
  },
  {
   "cell_type": "code",
   "execution_count": 324,
   "metadata": {},
   "outputs": [
    {
     "data": {
      "text/html": [
       "<div>\n",
       "<style scoped>\n",
       "    .dataframe tbody tr th:only-of-type {\n",
       "        vertical-align: middle;\n",
       "    }\n",
       "\n",
       "    .dataframe tbody tr th {\n",
       "        vertical-align: top;\n",
       "    }\n",
       "\n",
       "    .dataframe thead th {\n",
       "        text-align: right;\n",
       "    }\n",
       "</style>\n",
       "<table border=\"1\" class=\"dataframe\">\n",
       "  <thead>\n",
       "    <tr style=\"text-align: right;\">\n",
       "      <th></th>\n",
       "      <th>no params</th>\n",
       "      <th>GridSearchCV</th>\n",
       "      <th>Dropped Columns</th>\n",
       "    </tr>\n",
       "  </thead>\n",
       "  <tbody>\n",
       "    <tr>\n",
       "      <th>Logistic Regression</th>\n",
       "      <td>0.677903</td>\n",
       "      <td>0.677903</td>\n",
       "      <td>0.677903</td>\n",
       "    </tr>\n",
       "    <tr>\n",
       "      <th>Decision Tree</th>\n",
       "      <td>0.569288</td>\n",
       "      <td>0.625468</td>\n",
       "      <td>0.625468</td>\n",
       "    </tr>\n",
       "    <tr>\n",
       "      <th>Random Forest</th>\n",
       "      <td>0.640449</td>\n",
       "      <td>0.647940</td>\n",
       "      <td>0.629213</td>\n",
       "    </tr>\n",
       "    <tr>\n",
       "      <th>SGD</th>\n",
       "      <td>0.606742</td>\n",
       "      <td>0.610487</td>\n",
       "      <td>0.659176</td>\n",
       "    </tr>\n",
       "    <tr>\n",
       "      <th>SVC</th>\n",
       "      <td>0.636704</td>\n",
       "      <td>0.666667</td>\n",
       "      <td>0.674157</td>\n",
       "    </tr>\n",
       "  </tbody>\n",
       "</table>\n",
       "</div>"
      ],
      "text/plain": [
       "                     no params  GridSearchCV  Dropped Columns\n",
       "Logistic Regression   0.677903      0.677903         0.677903\n",
       "Decision Tree         0.569288      0.625468         0.625468\n",
       "Random Forest         0.640449      0.647940         0.629213\n",
       "SGD                   0.606742      0.610487         0.659176\n",
       "SVC                   0.636704      0.666667         0.674157"
      ]
     },
     "execution_count": 324,
     "metadata": {},
     "output_type": "execute_result"
    }
   ],
   "source": [
    "pd.DataFrame({'no params':accuracy_scores,'GridSearchCV':[lr_accuracy,DT_accuracy,RF_accuracy,SGD_accuracy,svc_accuracy],'Dropped Columns': accuracydropped},[\"Logistic Regression\",\"Decision Tree\",\"Random Forest\",\"SGD\",\"SVC\"])"
   ]
  },
  {
   "cell_type": "code",
   "execution_count": null,
   "metadata": {},
   "outputs": [],
   "source": [
    "#most models improved with dropped columns"
   ]
  }
 ],
 "metadata": {
  "kernelspec": {
   "display_name": "Python 3",
   "language": "python",
   "name": "python3"
  },
  "language_info": {
   "codemirror_mode": {
    "name": "ipython",
    "version": 3
   },
   "file_extension": ".py",
   "mimetype": "text/x-python",
   "name": "python",
   "nbconvert_exporter": "python",
   "pygments_lexer": "ipython3",
   "version": "3.8.5"
  }
 },
 "nbformat": 4,
 "nbformat_minor": 1
}
